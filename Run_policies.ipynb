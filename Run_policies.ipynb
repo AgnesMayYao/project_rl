{
  "nbformat": 4,
  "nbformat_minor": 0,
  "metadata": {
    "colab": {
      "name": "head.ipynb",
      "provenance": [],
      "collapsed_sections": [],
      "include_colab_link": true
    },
    "kernelspec": {
      "name": "python3",
      "display_name": "Python 3"
    },
    "accelerator": "GPU"
  },
  "cells": [
    {
      "cell_type": "markdown",
      "metadata": {
        "id": "view-in-github",
        "colab_type": "text"
      },
      "source": [
        "<a href=\"https://colab.research.google.com/github/esalcort/project_rl/blob/master/Run_policies.ipynb\" target=\"_parent\"><img src=\"https://colab.research.google.com/assets/colab-badge.svg\" alt=\"Open In Colab\"/></a>"
      ]
    },
    {
      "cell_type": "code",
      "metadata": {
        "id": "us9uWxy6gKAa",
        "colab_type": "code",
        "outputId": "32e162ad-711f-48eb-b673-13ebf3c4d8a3",
        "colab": {
          "base_uri": "https://localhost:8080/",
          "height": 124
        }
      },
      "source": [
        "# INSTALL DEPENDENCIES\n",
        "from google.colab import drive\n",
        "drive.mount('/content/drive')\n",
        "%cd /content/drive/My\\ Drive\n",
        "!git clone https://github.com/esalcort/project_rl.git\n",
        "%cd /content/drive/My\\ Drive/project_rl/\n",
        "!git submodule update --init\n",
        "!apt-get install xvfb mesa-utils -y\n",
        "!apt-get install -y cmake xorg-dev python-opengl libboost-all-dev libsdl2-dev swig\n",
        "!apt-get install ffmpeg\n",
        "!apt-get install zlib1g-dev\n",
        "!apt-get install libjpeg-dev\n",
        "!apt-get install xvfb\n",
        "!pip install pyvirtualdisplay\n",
        "!pip install piglet\n",
        "!apt-get install x11-utils\n",
        "%cd gym-duckietown\n",
        "!pip3 install -e ."
      ],
      "execution_count": 0,
      "outputs": [
        {
          "output_type": "stream",
          "text": [
            "Go to this URL in a browser: https://accounts.google.com/o/oauth2/auth?client_id=947318989803-6bn6qk8qdgf4n4g3pfee6491hc0brc4i.apps.googleusercontent.com&redirect_uri=urn%3aietf%3awg%3aoauth%3a2.0%3aoob&response_type=code&scope=email%20https%3a%2f%2fwww.googleapis.com%2fauth%2fdocs.test%20https%3a%2f%2fwww.googleapis.com%2fauth%2fdrive%20https%3a%2f%2fwww.googleapis.com%2fauth%2fdrive.photos.readonly%20https%3a%2f%2fwww.googleapis.com%2fauth%2fpeopleapi.readonly\n",
            "\n",
            "Enter your authorization code:\n",
            "··········\n",
            "Mounted at /content/drive\n"
          ],
          "name": "stdout"
        }
      ]
    },
    {
      "cell_type": "code",
      "metadata": {
        "id": "gsIvajIMCFO0",
        "colab_type": "code",
        "colab": {}
      },
      "source": [
        "# RUN DDPG\n",
        "from pyvirtualdisplay import Display\n",
        "display = Display(visible=0, size=(1400, 900))\n",
        "display.start()\n",
        "%cd /content/drive/My\\ Drive/project_rl/gym-duckietown/learning/\n",
        "!python -m reinforcement.pytorch.train_reinforcement"
      ],
      "execution_count": 0,
      "outputs": []
    },
    {
      "cell_type": "code",
      "metadata": {
        "id": "GKI5Y9gVsDna",
        "colab_type": "code",
        "colab": {}
      },
      "source": [
        "# RUN PPO\n",
        "from pyvirtualdisplay import Display\n",
        "display = Display(visible=0, size=(1400, 900))\n",
        "display.start()\n",
        "%cd /content/drive/My\\ Drive/project_rl/PPO-PyTorch/\n",
        "!python PPO_continuous.py --max_timesteps 500 --update_timestep 200"
      ],
      "execution_count": 0,
      "outputs": []
    },
    {
      "cell_type": "code",
      "metadata": {
        "id": "q1Rboa__3UeY",
        "colab_type": "code",
        "colab": {}
      },
      "source": [
        "# PLOT PPO'S RESULTS\n",
        "%cd /content/drive/My\\ Drive/PPO-PyTorch\n",
        "import pandas as pd\n",
        "import matplotlib.pyplot as plt\n",
        "df = pd.read_csv(\"PPO_stats.csv\", index_col=\"Epoch\")\n",
        "df.plot()\n",
        "plt.xlabel(\"Episodes\")\n",
        "plt.title(\"Episode Reward and time steps of PPO\")\n",
        "plt.show()"
      ],
      "execution_count": 0,
      "outputs": []
    }
  ]
}